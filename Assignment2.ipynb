{
 "cells": [
  {
   "cell_type": "code",
   "execution_count": 1,
   "metadata": {},
   "outputs": [],
   "source": [
    "import gzip\n",
    "import sklearn\n",
    "from collections import defaultdict\n",
    "import random\n",
    "import math\n",
    "import numpy as np\n",
    "from sklearn.metrics import jaccard_score as jaccard\n",
    "import json\n",
    "import pandas as pd\n",
    "import matplotlib.pyplot as plt\n",
    "from sklearn.linear_model import LogisticRegression\n",
    "import scipy.optimize\n",
    "import string\n",
    "from nltk.stem.porter import *\n",
    "from scipy.sparse import lil_matrix\n",
    "# from sklearn.linear_model import LogisticRegressionCV\n",
    "# from sklearn.model_selection import GridSearchCV\n"
   ]
  },
  {
   "cell_type": "code",
   "execution_count": 2,
   "metadata": {},
   "outputs": [],
   "source": [
    "def parse(path):\n",
    "    g = gzip.open(path, 'r')\n",
    "    for l in g:    \n",
    "        yield json.loads(l)"
   ]
  },
  {
   "cell_type": "code",
   "execution_count": 3,
   "metadata": {},
   "outputs": [],
   "source": [
    "data = list(parse(\"data/Video_Games_5.json.gz\"))"
   ]
  },
  {
   "cell_type": "code",
   "execution_count": 4,
   "metadata": {},
   "outputs": [
    {
     "data": {
      "text/plain": [
       "{'overall': 5.0,\n",
       " 'verified': True,\n",
       " 'reviewTime': '10 17, 2015',\n",
       " 'reviewerID': 'A1HP7NVNPFMA4N',\n",
       " 'asin': '0700026657',\n",
       " 'reviewerName': 'Ambrosia075',\n",
       " 'reviewText': \"This game is a bit hard to get the hang of, but when you do it's great.\",\n",
       " 'summary': \"but when you do it's great.\",\n",
       " 'unixReviewTime': 1445040000}"
      ]
     },
     "execution_count": 4,
     "metadata": {},
     "output_type": "execute_result"
    }
   ],
   "source": [
    "data[0]"
   ]
  },
  {
   "cell_type": "code",
   "execution_count": 5,
   "metadata": {},
   "outputs": [],
   "source": [
    "df = pd.DataFrame(data)"
   ]
  },
  {
   "cell_type": "code",
   "execution_count": 67,
   "metadata": {
    "scrolled": true
   },
   "outputs": [
    {
     "data": {
      "text/html": [
       "<div>\n",
       "<style scoped>\n",
       "    .dataframe tbody tr th:only-of-type {\n",
       "        vertical-align: middle;\n",
       "    }\n",
       "\n",
       "    .dataframe tbody tr th {\n",
       "        vertical-align: top;\n",
       "    }\n",
       "\n",
       "    .dataframe thead th {\n",
       "        text-align: right;\n",
       "    }\n",
       "</style>\n",
       "<table border=\"1\" class=\"dataframe\">\n",
       "  <thead>\n",
       "    <tr style=\"text-align: right;\">\n",
       "      <th></th>\n",
       "      <th>overall</th>\n",
       "      <th>verified</th>\n",
       "      <th>reviewTime</th>\n",
       "      <th>reviewerID</th>\n",
       "      <th>asin</th>\n",
       "      <th>reviewerName</th>\n",
       "      <th>reviewText</th>\n",
       "      <th>summary</th>\n",
       "      <th>unixReviewTime</th>\n",
       "      <th>vote</th>\n",
       "      <th>style</th>\n",
       "      <th>image</th>\n",
       "      <th>length_summary</th>\n",
       "      <th>length_review</th>\n",
       "      <th>date</th>\n",
       "      <th>year</th>\n",
       "      <th>month</th>\n",
       "    </tr>\n",
       "  </thead>\n",
       "  <tbody>\n",
       "  </tbody>\n",
       "</table>\n",
       "</div>"
      ],
      "text/plain": [
       "Empty DataFrame\n",
       "Columns: [overall, verified, reviewTime, reviewerID, asin, reviewerName, reviewText, summary, unixReviewTime, vote, style, image, length_summary, length_review, date, year, month]\n",
       "Index: []"
      ]
     },
     "execution_count": 67,
     "metadata": {},
     "output_type": "execute_result"
    }
   ],
   "source": [
    "df[df['overall'].isnull()]"
   ]
  },
  {
   "cell_type": "code",
   "execution_count": 6,
   "metadata": {},
   "outputs": [
    {
     "data": {
      "text/html": [
       "<div>\n",
       "<style scoped>\n",
       "    .dataframe tbody tr th:only-of-type {\n",
       "        vertical-align: middle;\n",
       "    }\n",
       "\n",
       "    .dataframe tbody tr th {\n",
       "        vertical-align: top;\n",
       "    }\n",
       "\n",
       "    .dataframe thead th {\n",
       "        text-align: right;\n",
       "    }\n",
       "</style>\n",
       "<table border=\"1\" class=\"dataframe\">\n",
       "  <thead>\n",
       "    <tr style=\"text-align: right;\">\n",
       "      <th></th>\n",
       "      <th>feature</th>\n",
       "      <th>description</th>\n",
       "    </tr>\n",
       "  </thead>\n",
       "  <tbody>\n",
       "    <tr>\n",
       "      <th>1</th>\n",
       "      <td>overall</td>\n",
       "      <td>rating of the product</td>\n",
       "    </tr>\n",
       "    <tr>\n",
       "      <th>2</th>\n",
       "      <td>verified</td>\n",
       "      <td>boolean</td>\n",
       "    </tr>\n",
       "    <tr>\n",
       "      <th>3</th>\n",
       "      <td>reviewTime</td>\n",
       "      <td>time of the review (raw)</td>\n",
       "    </tr>\n",
       "    <tr>\n",
       "      <th>4</th>\n",
       "      <td>reviewerID</td>\n",
       "      <td>ID of reviewer</td>\n",
       "    </tr>\n",
       "    <tr>\n",
       "      <th>5</th>\n",
       "      <td>asin</td>\n",
       "      <td>ID of product</td>\n",
       "    </tr>\n",
       "    <tr>\n",
       "      <th>6</th>\n",
       "      <td>reviewerName</td>\n",
       "      <td>name of reviewer</td>\n",
       "    </tr>\n",
       "    <tr>\n",
       "      <th>7</th>\n",
       "      <td>reviewText</td>\n",
       "      <td>text of review</td>\n",
       "    </tr>\n",
       "    <tr>\n",
       "      <th>8</th>\n",
       "      <td>summary</td>\n",
       "      <td>summary of review</td>\n",
       "    </tr>\n",
       "    <tr>\n",
       "      <th>9</th>\n",
       "      <td>unixReviewTime</td>\n",
       "      <td>time of review (unix time)</td>\n",
       "    </tr>\n",
       "    <tr>\n",
       "      <th>10</th>\n",
       "      <td>vote</td>\n",
       "      <td># of helpful votes of review</td>\n",
       "    </tr>\n",
       "    <tr>\n",
       "      <th>11</th>\n",
       "      <td>style</td>\n",
       "      <td>dictionary of product metadata</td>\n",
       "    </tr>\n",
       "    <tr>\n",
       "      <th>12</th>\n",
       "      <td>image</td>\n",
       "      <td>image that users post after receiving product</td>\n",
       "    </tr>\n",
       "  </tbody>\n",
       "</table>\n",
       "</div>"
      ],
      "text/plain": [
       "           feature                                    description\n",
       "1          overall                          rating of the product\n",
       "2         verified                                        boolean\n",
       "3       reviewTime                       time of the review (raw)\n",
       "4       reviewerID                                 ID of reviewer\n",
       "5             asin                                  ID of product\n",
       "6     reviewerName                               name of reviewer\n",
       "7       reviewText                                 text of review\n",
       "8          summary                              summary of review\n",
       "9   unixReviewTime                     time of review (unix time)\n",
       "10            vote                   # of helpful votes of review\n",
       "11           style                 dictionary of product metadata\n",
       "12           image  image that users post after receiving product"
      ]
     },
     "execution_count": 6,
     "metadata": {},
     "output_type": "execute_result"
    }
   ],
   "source": [
    "col_data = [\"rating of the product\",\"boolean\",\"time of the review (raw)\",\"ID of reviewer\",\\\n",
    "            \"ID of product\", \"name of reviewer\", \"text of review\", \"summary of review\",\\\n",
    "            \"time of review (unix time)\", \"# of helpful votes of review\", \"dictionary of product metadata\",\\\n",
    "            \"image that users post after receiving product\"]\n",
    "col_df = pd.DataFrame({'feature':df.columns, 'description':col_data})\n",
    "col_df.index +=1\n",
    "col_df"
   ]
  },
  {
   "cell_type": "code",
   "execution_count": 12,
   "metadata": {},
   "outputs": [],
   "source": [
    "df['length_summary'] = df['summary'].str.len()\n",
    "df['length_review'] = df['reviewText'].str.len()\n",
    "df['vote'] = df['vote'].fillna(0)\n",
    "df['vote'] = df['vote'].str.replace(',', '')\n",
    "df['vote'] = df['vote'].astype(np.float)"
   ]
  },
  {
   "cell_type": "code",
   "execution_count": 32,
   "metadata": {},
   "outputs": [],
   "source": [
    "df['overall'] = df['overall'].astype(np.int)"
   ]
  },
  {
   "cell_type": "code",
   "execution_count": 33,
   "metadata": {},
   "outputs": [
    {
     "data": {
      "text/html": [
       "<div>\n",
       "<style scoped>\n",
       "    .dataframe tbody tr th:only-of-type {\n",
       "        vertical-align: middle;\n",
       "    }\n",
       "\n",
       "    .dataframe tbody tr th {\n",
       "        vertical-align: top;\n",
       "    }\n",
       "\n",
       "    .dataframe thead th {\n",
       "        text-align: right;\n",
       "    }\n",
       "</style>\n",
       "<table border=\"1\" class=\"dataframe\">\n",
       "  <thead>\n",
       "    <tr style=\"text-align: right;\">\n",
       "      <th></th>\n",
       "      <th>overall</th>\n",
       "      <th>unixReviewTime</th>\n",
       "      <th>vote</th>\n",
       "      <th>length_summary</th>\n",
       "      <th>length_review</th>\n",
       "    </tr>\n",
       "  </thead>\n",
       "  <tbody>\n",
       "    <tr>\n",
       "      <th>count</th>\n",
       "      <td>497577.000000</td>\n",
       "      <td>4.975770e+05</td>\n",
       "      <td>107793.000000</td>\n",
       "      <td>497468.000000</td>\n",
       "      <td>497419.000000</td>\n",
       "    </tr>\n",
       "    <tr>\n",
       "      <th>mean</th>\n",
       "      <td>4.220456</td>\n",
       "      <td>1.367848e+09</td>\n",
       "      <td>10.655117</td>\n",
       "      <td>24.494878</td>\n",
       "      <td>670.288642</td>\n",
       "    </tr>\n",
       "    <tr>\n",
       "      <th>std</th>\n",
       "      <td>1.185424</td>\n",
       "      <td>1.224113e+08</td>\n",
       "      <td>35.582078</td>\n",
       "      <td>18.895582</td>\n",
       "      <td>1266.122219</td>\n",
       "    </tr>\n",
       "    <tr>\n",
       "      <th>min</th>\n",
       "      <td>1.000000</td>\n",
       "      <td>9.398592e+08</td>\n",
       "      <td>2.000000</td>\n",
       "      <td>1.000000</td>\n",
       "      <td>1.000000</td>\n",
       "    </tr>\n",
       "    <tr>\n",
       "      <th>25%</th>\n",
       "      <td>4.000000</td>\n",
       "      <td>1.316563e+09</td>\n",
       "      <td>2.000000</td>\n",
       "      <td>10.000000</td>\n",
       "      <td>57.000000</td>\n",
       "    </tr>\n",
       "    <tr>\n",
       "      <th>50%</th>\n",
       "      <td>5.000000</td>\n",
       "      <td>1.410221e+09</td>\n",
       "      <td>4.000000</td>\n",
       "      <td>18.000000</td>\n",
       "      <td>210.000000</td>\n",
       "    </tr>\n",
       "    <tr>\n",
       "      <th>75%</th>\n",
       "      <td>5.000000</td>\n",
       "      <td>1.452384e+09</td>\n",
       "      <td>8.000000</td>\n",
       "      <td>34.000000</td>\n",
       "      <td>710.000000</td>\n",
       "    </tr>\n",
       "    <tr>\n",
       "      <th>max</th>\n",
       "      <td>5.000000</td>\n",
       "      <td>1.538438e+09</td>\n",
       "      <td>2474.000000</td>\n",
       "      <td>282.000000</td>\n",
       "      <td>32721.000000</td>\n",
       "    </tr>\n",
       "  </tbody>\n",
       "</table>\n",
       "</div>"
      ],
      "text/plain": [
       "             overall  unixReviewTime           vote  length_summary  \\\n",
       "count  497577.000000    4.975770e+05  107793.000000   497468.000000   \n",
       "mean        4.220456    1.367848e+09      10.655117       24.494878   \n",
       "std         1.185424    1.224113e+08      35.582078       18.895582   \n",
       "min         1.000000    9.398592e+08       2.000000        1.000000   \n",
       "25%         4.000000    1.316563e+09       2.000000       10.000000   \n",
       "50%         5.000000    1.410221e+09       4.000000       18.000000   \n",
       "75%         5.000000    1.452384e+09       8.000000       34.000000   \n",
       "max         5.000000    1.538438e+09    2474.000000      282.000000   \n",
       "\n",
       "       length_review  \n",
       "count  497419.000000  \n",
       "mean      670.288642  \n",
       "std      1266.122219  \n",
       "min         1.000000  \n",
       "25%        57.000000  \n",
       "50%       210.000000  \n",
       "75%       710.000000  \n",
       "max     32721.000000  "
      ]
     },
     "execution_count": 33,
     "metadata": {},
     "output_type": "execute_result"
    }
   ],
   "source": [
    "df.describe()"
   ]
  },
  {
   "cell_type": "code",
   "execution_count": null,
   "metadata": {},
   "outputs": [],
   "source": []
  },
  {
   "cell_type": "code",
   "execution_count": null,
   "metadata": {},
   "outputs": [],
   "source": []
  },
  {
   "cell_type": "code",
   "execution_count": 75,
   "metadata": {},
   "outputs": [
    {
     "data": {
      "text/html": [
       "<div>\n",
       "<style scoped>\n",
       "    .dataframe tbody tr th:only-of-type {\n",
       "        vertical-align: middle;\n",
       "    }\n",
       "\n",
       "    .dataframe tbody tr th {\n",
       "        vertical-align: top;\n",
       "    }\n",
       "\n",
       "    .dataframe thead th {\n",
       "        text-align: right;\n",
       "    }\n",
       "</style>\n",
       "<table border=\"1\" class=\"dataframe\">\n",
       "  <thead>\n",
       "    <tr style=\"text-align: right;\">\n",
       "      <th></th>\n",
       "      <th>verified</th>\n",
       "      <th>unixReviewTime</th>\n",
       "      <th>vote</th>\n",
       "      <th>length_summary</th>\n",
       "      <th>length_review</th>\n",
       "      <th>year</th>\n",
       "      <th>month</th>\n",
       "    </tr>\n",
       "    <tr>\n",
       "      <th>overall</th>\n",
       "      <th></th>\n",
       "      <th></th>\n",
       "      <th></th>\n",
       "      <th></th>\n",
       "      <th></th>\n",
       "      <th></th>\n",
       "      <th></th>\n",
       "    </tr>\n",
       "  </thead>\n",
       "  <tbody>\n",
       "    <tr>\n",
       "      <th>1</th>\n",
       "      <td>0.492245</td>\n",
       "      <td>1.362514e+09</td>\n",
       "      <td>11.077242</td>\n",
       "      <td>28.189208</td>\n",
       "      <td>666.599825</td>\n",
       "      <td>2012.671567</td>\n",
       "      <td>6.586731</td>\n",
       "    </tr>\n",
       "    <tr>\n",
       "      <th>2</th>\n",
       "      <td>0.502175</td>\n",
       "      <td>1.340700e+09</td>\n",
       "      <td>9.339250</td>\n",
       "      <td>29.853916</td>\n",
       "      <td>1010.199851</td>\n",
       "      <td>2011.982888</td>\n",
       "      <td>6.555086</td>\n",
       "    </tr>\n",
       "    <tr>\n",
       "      <th>3</th>\n",
       "      <td>0.569283</td>\n",
       "      <td>1.342521e+09</td>\n",
       "      <td>10.363313</td>\n",
       "      <td>29.063202</td>\n",
       "      <td>1021.972914</td>\n",
       "      <td>2012.050279</td>\n",
       "      <td>6.441969</td>\n",
       "    </tr>\n",
       "    <tr>\n",
       "      <th>4</th>\n",
       "      <td>0.586051</td>\n",
       "      <td>1.338882e+09</td>\n",
       "      <td>10.460509</td>\n",
       "      <td>27.495467</td>\n",
       "      <td>981.969064</td>\n",
       "      <td>2011.931888</td>\n",
       "      <td>6.476904</td>\n",
       "    </tr>\n",
       "    <tr>\n",
       "      <th>5</th>\n",
       "      <td>0.742126</td>\n",
       "      <td>1.383786e+09</td>\n",
       "      <td>10.956679</td>\n",
       "      <td>21.995902</td>\n",
       "      <td>488.200028</td>\n",
       "      <td>2013.361350</td>\n",
       "      <td>6.402310</td>\n",
       "    </tr>\n",
       "  </tbody>\n",
       "</table>\n",
       "</div>"
      ],
      "text/plain": [
       "         verified  unixReviewTime       vote  length_summary  length_review  \\\n",
       "overall                                                                       \n",
       "1        0.492245    1.362514e+09  11.077242       28.189208     666.599825   \n",
       "2        0.502175    1.340700e+09   9.339250       29.853916    1010.199851   \n",
       "3        0.569283    1.342521e+09  10.363313       29.063202    1021.972914   \n",
       "4        0.586051    1.338882e+09  10.460509       27.495467     981.969064   \n",
       "5        0.742126    1.383786e+09  10.956679       21.995902     488.200028   \n",
       "\n",
       "                year     month  \n",
       "overall                         \n",
       "1        2012.671567  6.586731  \n",
       "2        2011.982888  6.555086  \n",
       "3        2012.050279  6.441969  \n",
       "4        2011.931888  6.476904  \n",
       "5        2013.361350  6.402310  "
      ]
     },
     "execution_count": 75,
     "metadata": {},
     "output_type": "execute_result"
    }
   ],
   "source": [
    "#averages grouped by overall rating\n",
    "df.groupby(['overall']).mean()"
   ]
  },
  {
   "cell_type": "code",
   "execution_count": 31,
   "metadata": {},
   "outputs": [
    {
     "data": {
      "image/png": "[encoded data removed]",
      "text/plain": [
       "<Figure size 432x288 with 1 Axes>"
      ]
     },
     "metadata": {
      "needs_background": "light"
     },
     "output_type": "display_data"
    }
   ],
   "source": [
    "df['overall'].value_counts().plot(kind='bar')\n",
    "plt.xticks(rotation='horizontal')\n",
    "plt.xlabel('rating')\n",
    "plt.ylabel('counts')\n",
    "plt.title(\"\")\n",
    "plt.show()"
   ]
  },
  {
   "cell_type": "code",
   "execution_count": 125,
   "metadata": {},
   "outputs": [
    {
     "data": {
      "text/plain": [
       "5    0.602437\n",
       "4    0.188220\n",
       "3    0.098771\n",
       "1    0.062067\n",
       "2    0.048505\n",
       "Name: overall, dtype: float64"
      ]
     },
     "execution_count": 125,
     "metadata": {},
     "output_type": "execute_result"
    }
   ],
   "source": [
    "df['overall'].value_counts() / len(df['overall'])"
   ]
  },
  {
   "cell_type": "code",
   "execution_count": 34,
   "metadata": {},
   "outputs": [],
   "source": [
    "df['date'] = pd.to_datetime(df['unixReviewTime'],unit='s').dt.year"
   ]
  },
  {
   "cell_type": "code",
   "execution_count": 36,
   "metadata": {},
   "outputs": [],
   "source": [
    "df['year'] = pd.to_datetime(df['unixReviewTime'],unit='s').dt.year"
   ]
  },
  {
   "cell_type": "code",
   "execution_count": 40,
   "metadata": {},
   "outputs": [],
   "source": [
    "df['month'] = pd.to_datetime(df['unixReviewTime'],unit='s').dt.month"
   ]
  },
  {
   "cell_type": "code",
   "execution_count": 76,
   "metadata": {},
   "outputs": [],
   "source": [
    "df['day'] = pd.to_datetime(df['unixReviewTime'],unit='s').dt.day"
   ]
  },
  {
   "cell_type": "code",
   "execution_count": 92,
   "metadata": {},
   "outputs": [
    {
     "data": {
      "text/html": [
       "<div>\n",
       "<style scoped>\n",
       "    .dataframe tbody tr th:only-of-type {\n",
       "        vertical-align: middle;\n",
       "    }\n",
       "\n",
       "    .dataframe tbody tr th {\n",
       "        vertical-align: top;\n",
       "    }\n",
       "\n",
       "    .dataframe thead th {\n",
       "        text-align: right;\n",
       "    }\n",
       "</style>\n",
       "<table border=\"1\" class=\"dataframe\">\n",
       "  <thead>\n",
       "    <tr style=\"text-align: right;\">\n",
       "      <th></th>\n",
       "      <th>overall</th>\n",
       "      <th>verified</th>\n",
       "      <th>unixReviewTime</th>\n",
       "      <th>vote</th>\n",
       "      <th>length_summary</th>\n",
       "      <th>length_review</th>\n",
       "      <th>month</th>\n",
       "      <th>day</th>\n",
       "    </tr>\n",
       "    <tr>\n",
       "      <th>year</th>\n",
       "      <th></th>\n",
       "      <th></th>\n",
       "      <th></th>\n",
       "      <th></th>\n",
       "      <th></th>\n",
       "      <th></th>\n",
       "      <th></th>\n",
       "      <th></th>\n",
       "    </tr>\n",
       "  </thead>\n",
       "  <tbody>\n",
       "    <tr>\n",
       "      <th>1999</th>\n",
       "      <td>4.259259</td>\n",
       "      <td>0.049383</td>\n",
       "      <td>9.443701e+08</td>\n",
       "      <td>13.194030</td>\n",
       "      <td>27.469136</td>\n",
       "      <td>669.617284</td>\n",
       "      <td>11.629630</td>\n",
       "      <td>16.333333</td>\n",
       "    </tr>\n",
       "    <tr>\n",
       "      <th>2000</th>\n",
       "      <td>4.066703</td>\n",
       "      <td>0.027434</td>\n",
       "      <td>9.681821e+08</td>\n",
       "      <td>12.821486</td>\n",
       "      <td>28.894567</td>\n",
       "      <td>1118.973104</td>\n",
       "      <td>8.658419</td>\n",
       "      <td>16.646046</td>\n",
       "    </tr>\n",
       "    <tr>\n",
       "      <th>2001</th>\n",
       "      <td>4.101384</td>\n",
       "      <td>0.029050</td>\n",
       "      <td>9.965364e+08</td>\n",
       "      <td>8.530015</td>\n",
       "      <td>28.398323</td>\n",
       "      <td>1102.848314</td>\n",
       "      <td>7.471437</td>\n",
       "      <td>15.891792</td>\n",
       "    </tr>\n",
       "    <tr>\n",
       "      <th>2002</th>\n",
       "      <td>4.096708</td>\n",
       "      <td>0.037949</td>\n",
       "      <td>1.026167e+09</td>\n",
       "      <td>9.159825</td>\n",
       "      <td>28.987347</td>\n",
       "      <td>1172.502176</td>\n",
       "      <td>6.754625</td>\n",
       "      <td>15.679679</td>\n",
       "    </tr>\n",
       "    <tr>\n",
       "      <th>2003</th>\n",
       "      <td>4.060151</td>\n",
       "      <td>0.040291</td>\n",
       "      <td>1.057484e+09</td>\n",
       "      <td>9.901396</td>\n",
       "      <td>28.077165</td>\n",
       "      <td>1334.638234</td>\n",
       "      <td>6.662666</td>\n",
       "      <td>15.979997</td>\n",
       "    </tr>\n",
       "    <tr>\n",
       "      <th>2004</th>\n",
       "      <td>4.002760</td>\n",
       "      <td>0.029805</td>\n",
       "      <td>1.089151e+09</td>\n",
       "      <td>11.613401</td>\n",
       "      <td>28.762660</td>\n",
       "      <td>1415.148475</td>\n",
       "      <td>6.691183</td>\n",
       "      <td>15.726232</td>\n",
       "    </tr>\n",
       "    <tr>\n",
       "      <th>2005</th>\n",
       "      <td>4.001798</td>\n",
       "      <td>0.041608</td>\n",
       "      <td>1.121104e+09</td>\n",
       "      <td>11.850297</td>\n",
       "      <td>29.179168</td>\n",
       "      <td>1596.053551</td>\n",
       "      <td>6.850905</td>\n",
       "      <td>15.562733</td>\n",
       "    </tr>\n",
       "    <tr>\n",
       "      <th>2006</th>\n",
       "      <td>3.881760</td>\n",
       "      <td>0.069979</td>\n",
       "      <td>1.152165e+09</td>\n",
       "      <td>13.402563</td>\n",
       "      <td>30.116570</td>\n",
       "      <td>1704.043293</td>\n",
       "      <td>6.662030</td>\n",
       "      <td>15.811214</td>\n",
       "    </tr>\n",
       "    <tr>\n",
       "      <th>2007</th>\n",
       "      <td>3.989403</td>\n",
       "      <td>0.181384</td>\n",
       "      <td>1.184409e+09</td>\n",
       "      <td>13.774612</td>\n",
       "      <td>28.524105</td>\n",
       "      <td>1311.494511</td>\n",
       "      <td>6.932506</td>\n",
       "      <td>15.760668</td>\n",
       "    </tr>\n",
       "    <tr>\n",
       "      <th>2008</th>\n",
       "      <td>3.947206</td>\n",
       "      <td>0.188542</td>\n",
       "      <td>1.216445e+09</td>\n",
       "      <td>14.186712</td>\n",
       "      <td>28.331051</td>\n",
       "      <td>1326.456693</td>\n",
       "      <td>7.081020</td>\n",
       "      <td>16.170613</td>\n",
       "    </tr>\n",
       "    <tr>\n",
       "      <th>2009</th>\n",
       "      <td>3.970190</td>\n",
       "      <td>0.282997</td>\n",
       "      <td>1.246086e+09</td>\n",
       "      <td>11.407340</td>\n",
       "      <td>28.274967</td>\n",
       "      <td>1299.213791</td>\n",
       "      <td>6.367711</td>\n",
       "      <td>15.800462</td>\n",
       "    </tr>\n",
       "    <tr>\n",
       "      <th>2010</th>\n",
       "      <td>3.963233</td>\n",
       "      <td>0.482487</td>\n",
       "      <td>1.277432e+09</td>\n",
       "      <td>11.957890</td>\n",
       "      <td>28.176112</td>\n",
       "      <td>1340.487001</td>\n",
       "      <td>6.292070</td>\n",
       "      <td>15.861144</td>\n",
       "    </tr>\n",
       "    <tr>\n",
       "      <th>2011</th>\n",
       "      <td>4.005438</td>\n",
       "      <td>0.536334</td>\n",
       "      <td>1.310381e+09</td>\n",
       "      <td>10.650000</td>\n",
       "      <td>27.498757</td>\n",
       "      <td>1277.059098</td>\n",
       "      <td>6.830062</td>\n",
       "      <td>15.889884</td>\n",
       "    </tr>\n",
       "    <tr>\n",
       "      <th>2012</th>\n",
       "      <td>4.026307</td>\n",
       "      <td>0.617779</td>\n",
       "      <td>1.343329e+09</td>\n",
       "      <td>10.743977</td>\n",
       "      <td>25.534023</td>\n",
       "      <td>1059.101201</td>\n",
       "      <td>7.316736</td>\n",
       "      <td>16.545971</td>\n",
       "    </tr>\n",
       "    <tr>\n",
       "      <th>2013</th>\n",
       "      <td>4.228996</td>\n",
       "      <td>0.797351</td>\n",
       "      <td>1.372460e+09</td>\n",
       "      <td>9.842583</td>\n",
       "      <td>22.966334</td>\n",
       "      <td>625.715698</td>\n",
       "      <td>6.428391</td>\n",
       "      <td>15.581704</td>\n",
       "    </tr>\n",
       "    <tr>\n",
       "      <th>2014</th>\n",
       "      <td>4.309362</td>\n",
       "      <td>0.764990</td>\n",
       "      <td>1.406453e+09</td>\n",
       "      <td>9.437927</td>\n",
       "      <td>22.615118</td>\n",
       "      <td>441.629498</td>\n",
       "      <td>7.356519</td>\n",
       "      <td>15.789355</td>\n",
       "    </tr>\n",
       "    <tr>\n",
       "      <th>2015</th>\n",
       "      <td>4.365842</td>\n",
       "      <td>0.859525</td>\n",
       "      <td>1.434833e+09</td>\n",
       "      <td>8.196009</td>\n",
       "      <td>22.637223</td>\n",
       "      <td>322.593814</td>\n",
       "      <td>6.166367</td>\n",
       "      <td>15.460937</td>\n",
       "    </tr>\n",
       "    <tr>\n",
       "      <th>2016</th>\n",
       "      <td>4.337668</td>\n",
       "      <td>0.852973</td>\n",
       "      <td>1.466130e+09</td>\n",
       "      <td>7.898943</td>\n",
       "      <td>23.746144</td>\n",
       "      <td>330.876820</td>\n",
       "      <td>6.042008</td>\n",
       "      <td>15.716119</td>\n",
       "    </tr>\n",
       "    <tr>\n",
       "      <th>2017</th>\n",
       "      <td>4.342228</td>\n",
       "      <td>0.893314</td>\n",
       "      <td>1.495728e+09</td>\n",
       "      <td>5.530204</td>\n",
       "      <td>22.568612</td>\n",
       "      <td>267.549173</td>\n",
       "      <td>5.306768</td>\n",
       "      <td>15.436771</td>\n",
       "    </tr>\n",
       "    <tr>\n",
       "      <th>2018</th>\n",
       "      <td>4.334264</td>\n",
       "      <td>0.921111</td>\n",
       "      <td>1.523025e+09</td>\n",
       "      <td>7.471761</td>\n",
       "      <td>22.515118</td>\n",
       "      <td>231.673328</td>\n",
       "      <td>3.708312</td>\n",
       "      <td>15.106907</td>\n",
       "    </tr>\n",
       "  </tbody>\n",
       "</table>\n",
       "</div>"
      ],
      "text/plain": [
       "       overall  verified  unixReviewTime       vote  length_summary  \\\n",
       "year                                                                  \n",
       "1999  4.259259  0.049383    9.443701e+08  13.194030       27.469136   \n",
       "2000  4.066703  0.027434    9.681821e+08  12.821486       28.894567   \n",
       "2001  4.101384  0.029050    9.965364e+08   8.530015       28.398323   \n",
       "2002  4.096708  0.037949    1.026167e+09   9.159825       28.987347   \n",
       "2003  4.060151  0.040291    1.057484e+09   9.901396       28.077165   \n",
       "2004  4.002760  0.029805    1.089151e+09  11.613401       28.762660   \n",
       "2005  4.001798  0.041608    1.121104e+09  11.850297       29.179168   \n",
       "2006  3.881760  0.069979    1.152165e+09  13.402563       30.116570   \n",
       "2007  3.989403  0.181384    1.184409e+09  13.774612       28.524105   \n",
       "2008  3.947206  0.188542    1.216445e+09  14.186712       28.331051   \n",
       "2009  3.970190  0.282997    1.246086e+09  11.407340       28.274967   \n",
       "2010  3.963233  0.482487    1.277432e+09  11.957890       28.176112   \n",
       "2011  4.005438  0.536334    1.310381e+09  10.650000       27.498757   \n",
       "2012  4.026307  0.617779    1.343329e+09  10.743977       25.534023   \n",
       "2013  4.228996  0.797351    1.372460e+09   9.842583       22.966334   \n",
       "2014  4.309362  0.764990    1.406453e+09   9.437927       22.615118   \n",
       "2015  4.365842  0.859525    1.434833e+09   8.196009       22.637223   \n",
       "2016  4.337668  0.852973    1.466130e+09   7.898943       23.746144   \n",
       "2017  4.342228  0.893314    1.495728e+09   5.530204       22.568612   \n",
       "2018  4.334264  0.921111    1.523025e+09   7.471761       22.515118   \n",
       "\n",
       "      length_review      month        day  \n",
       "year                                       \n",
       "1999     669.617284  11.629630  16.333333  \n",
       "2000    1118.973104   8.658419  16.646046  \n",
       "2001    1102.848314   7.471437  15.891792  \n",
       "2002    1172.502176   6.754625  15.679679  \n",
       "2003    1334.638234   6.662666  15.979997  \n",
       "2004    1415.148475   6.691183  15.726232  \n",
       "2005    1596.053551   6.850905  15.562733  \n",
       "2006    1704.043293   6.662030  15.811214  \n",
       "2007    1311.494511   6.932506  15.760668  \n",
       "2008    1326.456693   7.081020  16.170613  \n",
       "2009    1299.213791   6.367711  15.800462  \n",
       "2010    1340.487001   6.292070  15.861144  \n",
       "2011    1277.059098   6.830062  15.889884  \n",
       "2012    1059.101201   7.316736  16.545971  \n",
       "2013     625.715698   6.428391  15.581704  \n",
       "2014     441.629498   7.356519  15.789355  \n",
       "2015     322.593814   6.166367  15.460937  \n",
       "2016     330.876820   6.042008  15.716119  \n",
       "2017     267.549173   5.306768  15.436771  \n",
       "2018     231.673328   3.708312  15.106907  "
      ]
     },
     "execution_count": 92,
     "metadata": {},
     "output_type": "execute_result"
    }
   ],
   "source": [
    "gpy = df.groupby(['year']).mean()\n",
    "gpy"
   ]
  },
  {
   "cell_type": "code",
   "execution_count": 113,
   "metadata": {},
   "outputs": [
    {
     "data": {
      "image/png": "[encoded data removed]",
      "text/plain": [
       "<Figure size 432x288 with 1 Axes>"
      ]
     },
     "metadata": {
      "needs_background": "light"
     },
     "output_type": "display_data"
    }
   ],
   "source": [
    "gpy.plot.bar(y='length_review', rot=90)\n",
    "plt.title('average review lengths by year')\n",
    "plt.show()"
   ]
  },
  {
   "cell_type": "code",
   "execution_count": 45,
   "metadata": {
    "scrolled": true
   },
   "outputs": [
    {
     "data": {
      "image/png": "[encoded data removed]",
      "text/plain": [
       "<Figure size 432x288 with 1 Axes>"
      ]
     },
     "metadata": {
      "needs_background": "light"
     },
     "output_type": "display_data"
    }
   ],
   "source": [
    "df['year'].value_counts().plot(kind='bar')\n",
    "plt.xticks(rotation='vertical')\n",
    "plt.xlabel('year')\n",
    "plt.ylabel('counts')\n",
    "plt.title('Number of reviews by year')\n",
    "plt.show()"
   ]
  },
  {
   "cell_type": "code",
   "execution_count": 119,
   "metadata": {},
   "outputs": [
    {
     "data": {
      "text/plain": [
       "328468"
      ]
     },
     "execution_count": 119,
     "metadata": {},
     "output_type": "execute_result"
    }
   ],
   "source": [
    "48241+\\\n",
    "73797+\\\n",
    "91340+\\\n",
    "75891+\\\n",
    "39199"
   ]
  },
  {
   "cell_type": "code",
   "execution_count": 122,
   "metadata": {},
   "outputs": [
    {
     "data": {
      "text/plain": [
       "157214"
      ]
     },
     "execution_count": 122,
     "metadata": {},
     "output_type": "execute_result"
    }
   ],
   "source": [
    "1859+\\\n",
    "5129+\\\n",
    "7352+\\\n",
    "6999+\\\n",
    "7247+\\\n",
    "7787+\\\n",
    "7045+\\\n",
    "10475+\\\n",
    "19131+\\\n",
    "19926+\\\n",
    "18386+\\\n",
    "19307+\\\n",
    "26571"
   ]
  },
  {
   "cell_type": "code",
   "execution_count": 118,
   "metadata": {},
   "outputs": [
    {
     "data": {
      "text/plain": [
       "year\n",
       "1999       81\n",
       "2000     1859\n",
       "2001     5129\n",
       "2002     7352\n",
       "2003     6999\n",
       "2004     7247\n",
       "2005     7787\n",
       "2006     7045\n",
       "2007    10475\n",
       "2008    19131\n",
       "2009    19926\n",
       "2010    18386\n",
       "2011    19307\n",
       "2012    26571\n",
       "2013    48241\n",
       "2014    73797\n",
       "2015    91340\n",
       "2016    75891\n",
       "2017    39199\n",
       "2018    11814\n",
       "dtype: int64"
      ]
     },
     "execution_count": 118,
     "metadata": {},
     "output_type": "execute_result"
    }
   ],
   "source": [
    "df.groupby(['year']).apply(len)"
   ]
  },
  {
   "cell_type": "code",
   "execution_count": 81,
   "metadata": {},
   "outputs": [
    {
     "data": {
      "text/html": [
       "<div>\n",
       "<style scoped>\n",
       "    .dataframe tbody tr th:only-of-type {\n",
       "        vertical-align: middle;\n",
       "    }\n",
       "\n",
       "    .dataframe tbody tr th {\n",
       "        vertical-align: top;\n",
       "    }\n",
       "\n",
       "    .dataframe thead th {\n",
       "        text-align: right;\n",
       "    }\n",
       "</style>\n",
       "<table border=\"1\" class=\"dataframe\">\n",
       "  <thead>\n",
       "    <tr style=\"text-align: right;\">\n",
       "      <th></th>\n",
       "      <th>overall</th>\n",
       "      <th>verified</th>\n",
       "      <th>unixReviewTime</th>\n",
       "      <th>vote</th>\n",
       "      <th>length_summary</th>\n",
       "      <th>length_review</th>\n",
       "      <th>year</th>\n",
       "      <th>day</th>\n",
       "    </tr>\n",
       "    <tr>\n",
       "      <th>month</th>\n",
       "      <th></th>\n",
       "      <th></th>\n",
       "      <th></th>\n",
       "      <th></th>\n",
       "      <th></th>\n",
       "      <th></th>\n",
       "      <th></th>\n",
       "      <th></th>\n",
       "    </tr>\n",
       "  </thead>\n",
       "  <tbody>\n",
       "    <tr>\n",
       "      <th>1</th>\n",
       "      <td>4.269490</td>\n",
       "      <td>0.716484</td>\n",
       "      <td>1.370137e+09</td>\n",
       "      <td>7.781489</td>\n",
       "      <td>23.701829</td>\n",
       "      <td>581.638566</td>\n",
       "      <td>2013.378495</td>\n",
       "      <td>15.182033</td>\n",
       "    </tr>\n",
       "    <tr>\n",
       "      <th>2</th>\n",
       "      <td>4.258376</td>\n",
       "      <td>0.722405</td>\n",
       "      <td>1.375510e+09</td>\n",
       "      <td>9.566435</td>\n",
       "      <td>23.665868</td>\n",
       "      <td>606.043543</td>\n",
       "      <td>2013.464616</td>\n",
       "      <td>14.935012</td>\n",
       "    </tr>\n",
       "    <tr>\n",
       "      <th>3</th>\n",
       "      <td>4.219925</td>\n",
       "      <td>0.693622</td>\n",
       "      <td>1.373275e+09</td>\n",
       "      <td>9.851286</td>\n",
       "      <td>24.404756</td>\n",
       "      <td>683.695903</td>\n",
       "      <td>2013.314325</td>\n",
       "      <td>15.704543</td>\n",
       "    </tr>\n",
       "    <tr>\n",
       "      <th>4</th>\n",
       "      <td>4.223873</td>\n",
       "      <td>0.685542</td>\n",
       "      <td>1.369976e+09</td>\n",
       "      <td>9.276168</td>\n",
       "      <td>24.522110</td>\n",
       "      <td>660.568528</td>\n",
       "      <td>2013.126392</td>\n",
       "      <td>15.163969</td>\n",
       "    </tr>\n",
       "    <tr>\n",
       "      <th>5</th>\n",
       "      <td>4.194795</td>\n",
       "      <td>0.670530</td>\n",
       "      <td>1.368269e+09</td>\n",
       "      <td>10.367647</td>\n",
       "      <td>24.371648</td>\n",
       "      <td>701.917730</td>\n",
       "      <td>2012.988003</td>\n",
       "      <td>15.934924</td>\n",
       "    </tr>\n",
       "    <tr>\n",
       "      <th>6</th>\n",
       "      <td>4.174284</td>\n",
       "      <td>0.638800</td>\n",
       "      <td>1.361108e+09</td>\n",
       "      <td>10.505869</td>\n",
       "      <td>24.775503</td>\n",
       "      <td>720.429922</td>\n",
       "      <td>2012.677391</td>\n",
       "      <td>15.512531</td>\n",
       "    </tr>\n",
       "    <tr>\n",
       "      <th>7</th>\n",
       "      <td>4.236458</td>\n",
       "      <td>0.657808</td>\n",
       "      <td>1.365299e+09</td>\n",
       "      <td>9.038606</td>\n",
       "      <td>24.377455</td>\n",
       "      <td>631.016237</td>\n",
       "      <td>2012.726772</td>\n",
       "      <td>16.006735</td>\n",
       "    </tr>\n",
       "    <tr>\n",
       "      <th>8</th>\n",
       "      <td>4.245165</td>\n",
       "      <td>0.669499</td>\n",
       "      <td>1.374679e+09</td>\n",
       "      <td>10.177927</td>\n",
       "      <td>24.254691</td>\n",
       "      <td>628.276071</td>\n",
       "      <td>2012.939599</td>\n",
       "      <td>15.835396</td>\n",
       "    </tr>\n",
       "    <tr>\n",
       "      <th>9</th>\n",
       "      <td>4.215108</td>\n",
       "      <td>0.643364</td>\n",
       "      <td>1.368476e+09</td>\n",
       "      <td>12.372610</td>\n",
       "      <td>24.342937</td>\n",
       "      <td>679.007791</td>\n",
       "      <td>2012.659335</td>\n",
       "      <td>15.410995</td>\n",
       "    </tr>\n",
       "    <tr>\n",
       "      <th>10</th>\n",
       "      <td>4.199462</td>\n",
       "      <td>0.623681</td>\n",
       "      <td>1.364202e+09</td>\n",
       "      <td>13.540101</td>\n",
       "      <td>25.278500</td>\n",
       "      <td>742.044484</td>\n",
       "      <td>2012.439069</td>\n",
       "      <td>16.394572</td>\n",
       "    </tr>\n",
       "    <tr>\n",
       "      <th>11</th>\n",
       "      <td>4.151113</td>\n",
       "      <td>0.595751</td>\n",
       "      <td>1.358407e+09</td>\n",
       "      <td>14.200749</td>\n",
       "      <td>26.139321</td>\n",
       "      <td>803.062670</td>\n",
       "      <td>2012.171567</td>\n",
       "      <td>16.014940</td>\n",
       "    </tr>\n",
       "    <tr>\n",
       "      <th>12</th>\n",
       "      <td>4.235398</td>\n",
       "      <td>0.678623</td>\n",
       "      <td>1.364130e+09</td>\n",
       "      <td>9.132753</td>\n",
       "      <td>24.325174</td>\n",
       "      <td>639.141200</td>\n",
       "      <td>2012.269526</td>\n",
       "      <td>16.456014</td>\n",
       "    </tr>\n",
       "  </tbody>\n",
       "</table>\n",
       "</div>"
      ],
      "text/plain": [
       "        overall  verified  unixReviewTime       vote  length_summary  \\\n",
       "month                                                                  \n",
       "1      4.269490  0.716484    1.370137e+09   7.781489       23.701829   \n",
       "2      4.258376  0.722405    1.375510e+09   9.566435       23.665868   \n",
       "3      4.219925  0.693622    1.373275e+09   9.851286       24.404756   \n",
       "4      4.223873  0.685542    1.369976e+09   9.276168       24.522110   \n",
       "5      4.194795  0.670530    1.368269e+09  10.367647       24.371648   \n",
       "6      4.174284  0.638800    1.361108e+09  10.505869       24.775503   \n",
       "7      4.236458  0.657808    1.365299e+09   9.038606       24.377455   \n",
       "8      4.245165  0.669499    1.374679e+09  10.177927       24.254691   \n",
       "9      4.215108  0.643364    1.368476e+09  12.372610       24.342937   \n",
       "10     4.199462  0.623681    1.364202e+09  13.540101       25.278500   \n",
       "11     4.151113  0.595751    1.358407e+09  14.200749       26.139321   \n",
       "12     4.235398  0.678623    1.364130e+09   9.132753       24.325174   \n",
       "\n",
       "       length_review         year        day  \n",
       "month                                         \n",
       "1         581.638566  2013.378495  15.182033  \n",
       "2         606.043543  2013.464616  14.935012  \n",
       "3         683.695903  2013.314325  15.704543  \n",
       "4         660.568528  2013.126392  15.163969  \n",
       "5         701.917730  2012.988003  15.934924  \n",
       "6         720.429922  2012.677391  15.512531  \n",
       "7         631.016237  2012.726772  16.006735  \n",
       "8         628.276071  2012.939599  15.835396  \n",
       "9         679.007791  2012.659335  15.410995  \n",
       "10        742.044484  2012.439069  16.394572  \n",
       "11        803.062670  2012.171567  16.014940  \n",
       "12        639.141200  2012.269526  16.456014  "
      ]
     },
     "execution_count": 81,
     "metadata": {},
     "output_type": "execute_result"
    }
   ],
   "source": [
    "df.groupby(['month']).mean()"
   ]
  },
  {
   "cell_type": "code",
   "execution_count": 47,
   "metadata": {},
   "outputs": [
    {
     "data": {
      "image/png": "[encoded data removed]",
      "text/plain": [
       "<Figure size 432x288 with 1 Axes>"
      ]
     },
     "metadata": {
      "needs_background": "light"
     },
     "output_type": "display_data"
    }
   ],
   "source": [
    "df['month'].value_counts().plot(kind='bar')\n",
    "plt.xticks(rotation='horizontal')\n",
    "plt.xlabel('month')\n",
    "plt.ylabel('counts')\n",
    "plt.title('Number of reviews by month')\n",
    "plt.show()"
   ]
  },
  {
   "cell_type": "code",
   "execution_count": 84,
   "metadata": {},
   "outputs": [],
   "source": [
    "# df.groupby(['length_review']).mean()"
   ]
  },
  {
   "cell_type": "code",
   "execution_count": 130,
   "metadata": {},
   "outputs": [
    {
     "data": {
      "image/png": "[encoded data removed]",
      "text/plain": [
       "<Figure size 504x360 with 1 Axes>"
      ]
     },
     "metadata": {
      "needs_background": "light"
     },
     "output_type": "display_data"
    }
   ],
   "source": [
    "plt.figure(figsize = (7,5))\n",
    "plt.hist(df['length_summary'])\n",
    "plt.xlabel('summary length')\n",
    "plt.ylabel('# of reviews')\n",
    "plt.title('Distribution of summary lengths')\n",
    "plt.show()"
   ]
  },
  {
   "cell_type": "code",
   "execution_count": 131,
   "metadata": {},
   "outputs": [
    {
     "data": {
      "image/png": "[encoded data removed]",
      "text/plain": [
       "<Figure size 504x360 with 1 Axes>"
      ]
     },
     "metadata": {
      "needs_background": "light"
     },
     "output_type": "display_data"
    }
   ],
   "source": [
    "plt.figure(figsize = (7,5))\n",
    "plt.hist(df['length_review'], bins = np.arange(0,10000,1000))\n",
    "plt.xlabel('review length')\n",
    "plt.ylabel('# of reviews')\n",
    "plt.title('Distribution of review lengths')\n",
    "plt.show()"
   ]
  },
  {
   "cell_type": "code",
   "execution_count": 61,
   "metadata": {},
   "outputs": [
    {
     "data": {
      "image/png": "[encoded data removed]",
      "text/plain": [
       "<Figure size 432x288 with 1 Axes>"
      ]
     },
     "metadata": {
      "needs_background": "light"
     },
     "output_type": "display_data"
    }
   ],
   "source": [
    "plt.scatter(df['overall'], df['length_review'])\n",
    "plt.xlabel('ratings')\n",
    "plt.ylabel('review length')\n",
    "plt.title('review length vs overall rating')\n",
    "plt.show()"
   ]
  },
  {
   "cell_type": "code",
   "execution_count": null,
   "metadata": {},
   "outputs": [],
   "source": []
  },
  {
   "cell_type": "code",
   "execution_count": null,
   "metadata": {},
   "outputs": [],
   "source": []
  },
  {
   "cell_type": "code",
   "execution_count": 5,
   "metadata": {},
   "outputs": [],
   "source": [
    "X = [d for d in data]\n",
    "y = [d['overall'] for d in data]"
   ]
  },
  {
   "cell_type": "code",
   "execution_count": 6,
   "metadata": {},
   "outputs": [],
   "source": [
    "#shuffle data\n",
    "Xy = list(zip(X,y))\n",
    "random.shuffle(Xy)\n",
    "X = np.array([d[0] for d in Xy])\n",
    "y = np.array([d[1] for d in Xy])"
   ]
  },
  {
   "cell_type": "code",
   "execution_count": null,
   "metadata": {},
   "outputs": [],
   "source": []
  },
  {
   "cell_type": "code",
   "execution_count": null,
   "metadata": {},
   "outputs": [],
   "source": [
    "# df['len_rev'] = df['reviewText'].str.len()"
   ]
  },
  {
   "cell_type": "code",
   "execution_count": null,
   "metadata": {},
   "outputs": [],
   "source": [
    "# data[0]"
   ]
  },
  {
   "cell_type": "code",
   "execution_count": null,
   "metadata": {},
   "outputs": [],
   "source": [
    "# df.groupby(['revie÷werID']).size()\n",
    "# ['overall'].value_counts()"
   ]
  },
  {
   "cell_type": "code",
   "execution_count": null,
   "metadata": {},
   "outputs": [],
   "source": [
    "# df[df['reviewerID'].isnull()]"
   ]
  },
  {
   "cell_type": "code",
   "execution_count": null,
   "metadata": {},
   "outputs": [],
   "source": [
    "447819 + 49758"
   ]
  },
  {
   "cell_type": "code",
   "execution_count": null,
   "metadata": {},
   "outputs": [],
   "source": [
    "len(data)*.90"
   ]
  },
  {
   "cell_type": "code",
   "execution_count": null,
   "metadata": {},
   "outputs": [],
   "source": [
    "len(data)*.10"
   ]
  },
  {
   "cell_type": "code",
   "execution_count": null,
   "metadata": {},
   "outputs": [],
   "source": [
    "N = len(data)\n",
    "N"
   ]
  },
  {
   "cell_type": "code",
   "execution_count": null,
   "metadata": {},
   "outputs": [],
   "source": [
    "Xtrain = X[:447819]\n",
    "Xvalid = X[447819:]\n",
    "# Xtest = X[40000:50000]\n",
    "\n",
    "ytrain = y[:447819]\n",
    "yvalid = y[447819:]\n",
    "# ytest = y[40000:50000]"
   ]
  },
  {
   "cell_type": "code",
   "execution_count": 7,
   "metadata": {},
   "outputs": [],
   "source": [
    "Xtrain = X[:50000]\n",
    "Xvalid = X[50000:60000]\n",
    "# Xtest = X[40000:50000]\n",
    "\n",
    "ytrain = y[:50000]\n",
    "yvalid = y[50000:60000]"
   ]
  },
  {
   "cell_type": "code",
   "execution_count": 8,
   "metadata": {},
   "outputs": [],
   "source": [
    "C = [.01, .1, 1, 10, 100]"
   ]
  },
  {
   "cell_type": "code",
   "execution_count": 52,
   "metadata": {},
   "outputs": [],
   "source": [
    "#most common words in 'summary'\n",
    "unigramsSumm = defaultdict(int)\n",
    "for d in Xtrain:\n",
    "    #not all data has a review\n",
    "    if 'summary' in d:\n",
    "#     token = nltk.word_tokenize(d['text'])\n",
    "#     unigram = list(ngrams(token, 1))\n",
    "        t = d['summary']\n",
    "        text = \" \".join(t.splitlines())\n",
    "        unigram = text.strip().split()\n",
    "        for u in unigram:\n",
    "            unigramsSumm[u] += 1\n",
    "\n",
    "#50 most common from training set, summary\n",
    "mostCommonUniSumm =sorted(unigramsSumm.items(),key=lambda v: v[1],reverse=True)[:50]\n",
    "unigram_wordsSumm = [u[0] for u in mostCommonUniSumm]\n",
    "unigramIdSumm = dict(zip(unigram_wordsSumm, np.arange(5000,5051)))\n",
    "unigramSetSumm = set(unigram_wordsSumm)"
   ]
  },
  {
   "cell_type": "code",
   "execution_count": null,
   "metadata": {},
   "outputs": [],
   "source": []
  },
  {
   "cell_type": "code",
   "execution_count": null,
   "metadata": {},
   "outputs": [],
   "source": []
  },
  {
   "cell_type": "code",
   "execution_count": 10,
   "metadata": {},
   "outputs": [],
   "source": [
    "#summary\n",
    "docFreqSumm = defaultdict(set)\n",
    "for d in Xtrain:\n",
    "    if 'summary' in d: \n",
    "        t = d['summary']\n",
    "        text = \" \".join(t.splitlines())\n",
    "        unigramSumm = text.strip().split()\n",
    "        for u in unigramSumm:\n",
    "            docFreqSumm[u].add(d['reviewerID'])\n",
    "\n",
    "#term freq\n",
    "tfSumm = unigramsSumm"
   ]
  },
  {
   "cell_type": "code",
   "execution_count": 38,
   "metadata": {},
   "outputs": [
    {
     "data": {
      "text/plain": [
       "{'overall': 5.0,\n",
       " 'verified': True,\n",
       " 'reviewTime': '10 17, 2015',\n",
       " 'reviewerID': 'A1HP7NVNPFMA4N',\n",
       " 'asin': '0700026657',\n",
       " 'reviewerName': 'Ambrosia075',\n",
       " 'reviewText': \"This game is a bit hard to get the hang of, but when you do it's great.\",\n",
       " 'summary': \"but when you do it's great.\",\n",
       " 'unixReviewTime': 1445040000}"
      ]
     },
     "execution_count": 38,
     "metadata": {},
     "output_type": "execute_result"
    }
   ],
   "source": [
    "data[0]"
   ]
  },
  {
   "cell_type": "code",
   "execution_count": 53,
   "metadata": {},
   "outputs": [],
   "source": []
  },
  {
   "cell_type": "code",
   "execution_count": 54,
   "metadata": {},
   "outputs": [],
   "source": [
    "Xtrain_4_ = [feature_uni_nopunc_wc_withSumm(d) for d in Xtrain]\n",
    "Xvalid_4_ = [feature_uni_nopunc_wc_withSumm(d) for d in Xvalid]"
   ]
  },
  {
   "cell_type": "code",
   "execution_count": null,
   "metadata": {},
   "outputs": [],
   "source": []
  },
  {
   "cell_type": "code",
   "execution_count": 58,
   "metadata": {},
   "outputs": [],
   "source": [
    "Xtrain_4_ = lil_matrix(Xtrain_4_)\n",
    "Xvalid_4_ = lil_matrix(Xvalid_4_)"
   ]
  },
  {
   "cell_type": "code",
   "execution_count": null,
   "metadata": {},
   "outputs": [],
   "source": []
  },
  {
   "cell_type": "code",
   "execution_count": null,
   "metadata": {},
   "outputs": [],
   "source": []
  },
  {
   "cell_type": "code",
   "execution_count": 59,
   "metadata": {},
   "outputs": [
    {
     "name": "stdout",
     "output_type": "stream",
     "text": [
      "0.6768\n"
     ]
    }
   ],
   "source": [
    "#acc for dict size of 5000, BoW reviews + BoW summaries + review length\n",
    "#0.6768\n",
    "clf = LogisticRegression(C = 0.1, fit_intercept=False, max_iter = 50000) \n",
    "clf.fit(Xtrain_4_, ytrain)\n",
    "#         theta = clf.coef_\n",
    "predictions = clf.predict(Xvalid_4_)\n",
    "correct = predictions == yvalid\n",
    "acc = sum(correct) / len(correct)\n",
    "print(acc)"
   ]
  },
  {
   "cell_type": "code",
   "execution_count": 61,
   "metadata": {},
   "outputs": [],
   "source": []
  },
  {
   "cell_type": "code",
   "execution_count": null,
   "metadata": {},
   "outputs": [],
   "source": []
  },
  {
   "cell_type": "code",
   "execution_count": null,
   "metadata": {},
   "outputs": [],
   "source": []
  },
  {
   "cell_type": "code",
   "execution_count": 50,
   "metadata": {},
   "outputs": [],
   "source": [
    "#Unigrams, keep punc, tfidf\n",
    "#training data\n",
    "unigrams = defaultdict(int)\n",
    "for d in Xtrain:\n",
    "    #not all data has a review\n",
    "    if 'reviewText' in d:\n",
    "#     token = nltk.word_tokenize(d['text'])\n",
    "#     unigram = list(ngrams(token, 1))\n",
    "        t = d['reviewText']\n",
    "        text = \" \".join(t.splitlines())\n",
    "        unigram = text.strip().split()\n",
    "        for u in unigram:\n",
    "            unigrams[u] += 1\n",
    "\n",
    "#1000 most common from training set, review text\n",
    "mostCommonUni =sorted(unigrams.items(),key=lambda v: v[1],reverse=True)[:5000]\n",
    "unigram_words = [u[0] for u in mostCommonUni]\n",
    "unigramId = dict(zip(unigram_words, range(len(unigram_words))))\n",
    "unigramSet = set(unigram_words)"
   ]
  },
  {
   "cell_type": "code",
   "execution_count": 51,
   "metadata": {},
   "outputs": [],
   "source": [
    "#docFreq and tf\n",
    "#training data\n",
    "docFreq = defaultdict(set)\n",
    "for d in Xtrain:\n",
    "    if 'reviewText' in d: \n",
    "        t = d['reviewText']\n",
    "        text = \" \".join(t.splitlines())\n",
    "        unigram = text.strip().split()\n",
    "        for u in unigram:\n",
    "            docFreq[u].add(d['reviewerID'])\n",
    "\n",
    "#term freq\n",
    "tf = unigrams\n"
   ]
  },
  {
   "cell_type": "code",
   "execution_count": null,
   "metadata": {},
   "outputs": [],
   "source": [
    "#features including summaries\n",
    "def feature_uni_nopunc_wc_withSumm(datum):\n",
    "    feat = [0]*(len(unigramSet)+len(unigramSetSumm) + 1)\n",
    "    if 'reviewText' in datum: \n",
    "        t = datum['reviewText']\n",
    "        t = ''.join([c for c in t.lower() if not c in punctuation])\n",
    "\n",
    "        text = \" \".join(t.splitlines())\n",
    "        unigram_words = text.strip().split()\n",
    "    #     token = nltk.word_tokenize(t)\n",
    "    #     unigram_words = list(ngrams(token, 1))\n",
    "        for u in unigram_words:\n",
    "            if not (u in unigramSet): continue\n",
    "            feat[unigramId[u]] += 1\n",
    "            \n",
    "    if 'summary' in datum: \n",
    "        t = datum['summary']\n",
    "        t = ''.join([c for c in t.lower() if not c in punctuation])\n",
    "\n",
    "        text = \" \".join(t.splitlines())\n",
    "        unigram_wordsSumm = text.strip().split()\n",
    "    #     token = nltk.word_tokenize(t)\n",
    "    #     unigram_words = list(ngrams(token, 1))\n",
    "        for u in unigram_wordsSumm:\n",
    "            if not (u in unigramSetSumm): continue\n",
    "            feat[unigramIdSumm[u]] += 1\n",
    "        \n",
    "        \n",
    "    if 'reviewText' in datum:\n",
    "        feat[-1] = len(datum['reviewText'])\n",
    "\n",
    "    feat.append(1)\n",
    "    return feat"
   ]
  },
  {
   "cell_type": "code",
   "execution_count": null,
   "metadata": {},
   "outputs": [],
   "source": [
    "Xtrain_4_ = [feature_uni_nopunc_wc_withSumm(d) for d in Xtrain]\n",
    "Xvalid_4_ = [feature_uni_nopunc_wc_withSumm(d) for d in Xvalid]"
   ]
  },
  {
   "cell_type": "code",
   "execution_count": null,
   "metadata": {},
   "outputs": [],
   "source": [
    "# def feature_uni_punc_tfidf(datum):\n",
    "#     feat = [0]*len(unigramSet)\n",
    "#     if 'reviewText' in datum: \n",
    "#         t = datum['reviewText']\n",
    "#         text = \" \".join(t.splitlines())\n",
    "#         unigram_words = text.strip().split()\n",
    "    \n",
    "#         for u in unigram_words:\n",
    "#             if not (u in unigramSet): continue\n",
    "#             tf_idf_word = np.log(len(Xtrain)/ len(docFreq[u])) * tf[u]\n",
    "#             feat[unigramId[u]] = tf_idf_word\n",
    "\n",
    "#     feat.append(1)\n",
    "#     return feat"
   ]
  },
  {
   "cell_type": "code",
   "execution_count": null,
   "metadata": {},
   "outputs": [],
   "source": [
    "# Xtrain_1 = [feature_uni_punc_tfidf(d) for d in Xtrain]\n",
    "# Xvalid_1 = [feature_uni_punc_tfidf(d) for d in Xvalid]"
   ]
  },
  {
   "cell_type": "code",
   "execution_count": 32,
   "metadata": {},
   "outputs": [],
   "source": [
    "punctuation = set(string.punctuation)"
   ]
  },
  {
   "cell_type": "code",
   "execution_count": null,
   "metadata": {},
   "outputs": [],
   "source": [
    "#unigrams, discard punc, tfidf\n",
    "# def feature_uni_nopunc_tfidf(datum):\n",
    "#     feat = [0]*len(unigramSet)\n",
    "#     if 'reviewText' in datum:\n",
    "#         t = datum['reviewText']\n",
    "#         t = ''.join([c for c in t.lower() if not c in punctuation])\n",
    "\n",
    "#         text = \" \".join(t.splitlines())\n",
    "#         unigram_words = text.strip().split()\n",
    "#     #     token = nltk.word_tokenize(t)\n",
    "#     #     unigram_words = list(ngrams(token, 1))\n",
    "\n",
    "#         for u in unigram_words:\n",
    "#             if not (u in unigramSet): continue\n",
    "#             tf_idf_word = np.log(len(Xtrain)/ len(docFreq[u])) * tf[u]\n",
    "#             feat[unigramId[u]] = tf_idf_word\n",
    "\n",
    "#     feat.append(1)\n",
    "#     return feat"
   ]
  },
  {
   "cell_type": "code",
   "execution_count": null,
   "metadata": {},
   "outputs": [],
   "source": [
    "# Xtrain_2 = [feature_uni_nopunc_tfidf(d) for d in Xtrain]\n",
    "# Xvalid_2 = [feature_uni_nopunc_tfidf(d) for d in Xvalid]"
   ]
  },
  {
   "cell_type": "code",
   "execution_count": null,
   "metadata": {},
   "outputs": [],
   "source": [
    "# #unigrams, keep punc, counts\n",
    "# def feature_uni_punc_wc(datum):\n",
    "#     feat = [0]*len(unigramSet)\n",
    "#     if 'reviewText' in datum: \n",
    "#         t = datum['reviewText']\n",
    "#     #     token = nltk.word_tokenize(t)\n",
    "#     #     unigram_words = list(ngrams(token, 1))\n",
    "#         text = \" \".join(t.splitlines())\n",
    "#         unigram_words = text.strip().split()\n",
    "\n",
    "#         for u in unigram_words:\n",
    "#             if not (u in unigramSet): continue\n",
    "#             feat[unigramId[u]] += 1\n",
    "\n",
    "#     feat.append(1)\n",
    "#     return feat"
   ]
  },
  {
   "cell_type": "code",
   "execution_count": null,
   "metadata": {},
   "outputs": [],
   "source": [
    "# Xtrain_3 = [feature_uni_punc_wc(d) for d in Xtrain]\n",
    "# Xvalid_3 = [feature_uni_punc_wc(d) for d in Xvalid]"
   ]
  },
  {
   "cell_type": "code",
   "execution_count": null,
   "metadata": {},
   "outputs": [],
   "source": [
    "#unigrams, discard punc, counts\n",
    "def feature_uni_nopunc_wc(datum):\n",
    "    feat = [0]*len(unigramSet)\n",
    "    if 'reviewText' in datum: \n",
    "        t = datum['reviewText']\n",
    "        t = ''.join([c for c in t.lower() if not c in punctuation])\n",
    "\n",
    "        text = \" \".join(t.splitlines())\n",
    "        unigram_words = text.strip().split()\n",
    "    #     token = nltk.word_tokenize(t)\n",
    "    #     unigram_words = list(ngrams(token, 1))\n",
    "        for u in unigram_words:\n",
    "            if not (u in unigramSet): continue\n",
    "            feat[unigramId[u]] += 1\n",
    "\n",
    "    feat.append(1)\n",
    "    return feat"
   ]
  },
  {
   "cell_type": "code",
   "execution_count": null,
   "metadata": {},
   "outputs": [],
   "source": [
    "Xtrain_4 = [feature_uni_nopunc_wc(d) for d in Xtrain]\n",
    "Xvalid_4 = [feature_uni_nopunc_wc(d) for d in Xvalid]"
   ]
  },
  {
   "cell_type": "code",
   "execution_count": 48,
   "metadata": {},
   "outputs": [],
   "source": [
    "Xtrain_4_ = lil_matrix(Xtrain_4_)\n",
    "Xvalid_4_ = lil_matrix(Xvalid_4_)"
   ]
  },
  {
   "cell_type": "code",
   "execution_count": 49,
   "metadata": {},
   "outputs": [
    {
     "name": "stdout",
     "output_type": "stream",
     "text": [
      "0.654\n"
     ]
    }
   ],
   "source": [
    "#acc for dict size 1000, reviews + summaries + review length\n",
    "#.654\n",
    "clf = LogisticRegression(C = 0.1, fit_intercept=False, max_iter = 50000) \n",
    "clf.fit(Xtrain_4_, ytrain)\n",
    "#         theta = clf.coef_\n",
    "predictions = clf.predict(Xvalid_4_)\n",
    "correct = predictions == yvalid\n",
    "acc = sum(correct) / len(correct)\n",
    "print(acc)"
   ]
  },
  {
   "cell_type": "code",
   "execution_count": null,
   "metadata": {},
   "outputs": [],
   "source": [
    "# #start of bigram models\n",
    "# bigrams = defaultdict(int)\n",
    "\n",
    "# for d in Xtrain:\n",
    "# #     token = nltk.word_tokenize(d['text'])\n",
    "# #     bigram = list(ngrams(token, 2)) \n",
    "#     if 'reviewText' in d: \n",
    "#         text = \" \".join(d['reviewText'].splitlines())\n",
    "#         bigram = [b for b in zip(text.split(\" \")[:-1], text.split(\" \")[1:])]\n",
    "#         for b in bigram:\n",
    "#             bigrams[b] += 1\n",
    "        \n",
    "# #1000 most common from training set\n",
    "# mostCommonBi =sorted(bigrams.items(),key=lambda v: v[1],reverse=True)[:1000]\n",
    "# bigram_words = [u[0] for u in mostCommonBi]\n",
    "# bigramId = dict(zip(bigram_words, range(len(bigram_words))))\n",
    "# bigramSet = set(bigram_words)"
   ]
  },
  {
   "cell_type": "code",
   "execution_count": null,
   "metadata": {},
   "outputs": [],
   "source": [
    "#docFreq and tf\n",
    "#training data\n",
    "# docFreq = defaultdict(set)\n",
    "# for d in Xtrain:\n",
    "# #     token = nltk.word_tokenize(d['text'])\n",
    "# #     bigram = list(ngrams(token, 2)) \n",
    "#     if 'reviewText' in d: \n",
    "#         text = \" \".join(d['reviewText'].splitlines())\n",
    "#         bigram = [b for b in zip(text.split(\" \")[:-1], text.split(\" \")[1:])]\n",
    "#         for b in bigram:\n",
    "#             docFreq[b].add(d['reviewerID'])\n",
    "\n",
    "# #term freq\n",
    "# tf = bigrams"
   ]
  },
  {
   "cell_type": "code",
   "execution_count": null,
   "metadata": {},
   "outputs": [],
   "source": [
    "# #bigrams, keep punc, tfidf\n",
    "# def feature_bi_punc_tfidf(datum):\n",
    "#     feat = [0]*len(bigramSet)\n",
    "#     if 'reviewText' in datum: \n",
    "#         t = datum['reviewText']\n",
    "#     #     token = nltk.word_tokenize(t)\n",
    "#     #     bigram_words = list(ngrams(token, 2))\n",
    "#         text = \" \".join(t.splitlines())\n",
    "#         bigram_words = [b for b in zip(text.split(\" \")[:-1], text.split(\" \")[1:])]\n",
    "\n",
    "#         for b in bigram_words:\n",
    "#             if not (b in bigramSet): continue\n",
    "#             tf_idf_word = np.log(len(Xtrain)/ len(docFreq[b])) * tf[b]\n",
    "#             feat[bigramId[b]] = tf_idf_word\n",
    "\n",
    "#     feat.append(1)\n",
    "#     return feat"
   ]
  },
  {
   "cell_type": "code",
   "execution_count": null,
   "metadata": {},
   "outputs": [],
   "source": [
    "# Xtrain_5 = [feature_bi_punc_tfidf(d) for d in Xtrain]\n",
    "# Xvalid_5 = [feature_bi_punc_tfidf(d) for d in Xvalid]"
   ]
  },
  {
   "cell_type": "code",
   "execution_count": null,
   "metadata": {},
   "outputs": [],
   "source": [
    "# #bigrams, discard punc, tfidf\n",
    "# def feature_bi_nopunc_tfidf(datum):\n",
    "#     feat = [0]*len(bigramSet)\n",
    "#     if 'reviewText' in datum: \n",
    "#         t = datum['reviewText']\n",
    "#     #     token = nltk.word_tokenize(t)\n",
    "#     #     bigram_words = list(ngrams(token, 2))\n",
    "#         t = ''.join([c for c in t.lower() if not c in punctuation])\n",
    "#         text = \" \".join(t.splitlines())\n",
    "#         bigram_words = [b for b in zip(text.split(\" \")[:-1], text.split(\" \")[1:])]\n",
    "\n",
    "#         for b in bigram_words:\n",
    "#             if not (b in bigramSet): continue\n",
    "#             tf_idf_word = np.log(len(Xtrain)/ len(docFreq[b])) * tf[b]\n",
    "#             feat[bigramId[b]] = tf_idf_word\n",
    "\n",
    "#     feat.append(1)\n",
    "#     return feat"
   ]
  },
  {
   "cell_type": "code",
   "execution_count": null,
   "metadata": {},
   "outputs": [],
   "source": [
    "# Xtrain_6 = [feature_bi_nopunc_tfidf(d) for d in Xtrain]\n",
    "# Xvalid_6 = [feature_bi_nopunc_tfidf(d) for d in Xvalid]"
   ]
  },
  {
   "cell_type": "code",
   "execution_count": null,
   "metadata": {},
   "outputs": [],
   "source": [
    "# #bigrams, keep punc, counts\n",
    "# def feature_bi_punc_wc(datum):\n",
    "#     feat = [0]*len(bigramSet)\n",
    "#     if 'reviewText' in datum: \n",
    "#         t = datum['reviewText']\n",
    "\n",
    "#     #     token = nltk.word_tokenize(t)\n",
    "#     #     bigram_words = list(ngrams(token, 2))\n",
    "#         text = \" \".join(t.splitlines())\n",
    "#         bigram_words = [b for b in zip(text.split(\" \")[:-1], text.split(\" \")[1:])]\n",
    "\n",
    "#         for b in bigram_words:\n",
    "#             if not (b in bigramSet): continue\n",
    "#             feat[bigramId[b]] += 1\n",
    "\n",
    "#     feat.append(1)\n",
    "#     return feat"
   ]
  },
  {
   "cell_type": "code",
   "execution_count": null,
   "metadata": {},
   "outputs": [],
   "source": [
    "# Xtrain_7 = [feature_bi_punc_wc(d) for d in Xtrain]\n",
    "# Xvalid_7 = [feature_bi_punc_wc(d) for d in Xvalid]"
   ]
  },
  {
   "cell_type": "code",
   "execution_count": null,
   "metadata": {},
   "outputs": [],
   "source": [
    "#bigrams, discard punc, counts\n",
    "# def feature_bi_nopunc_wc(datum):\n",
    "#     feat = [0]*len(bigramSet)\n",
    "#     if 'reviewText' in datum: \n",
    "#         t = datum['reviewText']\n",
    "\n",
    "#     #     token = nltk.word_tokenize(t)\n",
    "#     #     bigram_words = list(ngrams(token, 2))\n",
    "\n",
    "#         t = ''.join([c for c in t.lower() if not c in punctuation])\n",
    "#         text = \" \".join(t.splitlines())\n",
    "#         bigram_words = [b for b in zip(text.split(\" \")[:-1], text.split(\" \")[1:])]\n",
    "\n",
    "#         for b in bigram_words:\n",
    "#             if not (b in bigramSet): continue\n",
    "#             feat[bigramId[b]] += 1\n",
    "\n",
    "#     feat.append(1)\n",
    "#     return feat"
   ]
  },
  {
   "cell_type": "code",
   "execution_count": null,
   "metadata": {},
   "outputs": [],
   "source": [
    "# Xtrain_8 = [feature_bi_nopunc_wc(d) for d in Xtrain]\n",
    "# Xvalid_8 = [feature_bi_nopunc_wc(d) for d in Xvalid]"
   ]
  },
  {
   "cell_type": "code",
   "execution_count": null,
   "metadata": {},
   "outputs": [],
   "source": [
    "from tqdm import tqdm"
   ]
  },
  {
   "cell_type": "code",
   "execution_count": null,
   "metadata": {},
   "outputs": [],
   "source": [
    "len(ytrain)"
   ]
  },
  {
   "cell_type": "code",
   "execution_count": null,
   "metadata": {},
   "outputs": [],
   "source": [
    "# to_fit = [lil_matrix(Xtrain_1), lil_matrix(Xtrain_2), lil_matrix(Xtrain_3), lil_matrix(Xtrain_4), lil_matrix(Xtrain_5), lil_matrix(Xtrain_6), lil_matrix(Xtrain_7), lil_matrix(Xtrain_8)]\n",
    "# to_fit = [lil_matrix(Xtrain_5), lil_matrix(Xtrain_6), lil_matrix(Xtrain_7), lil_matrix(Xtrain_8)]\n",
    "\n",
    "# to_pred = [Xvalid_1, Xvalid_2, Xvalid_3, Xvalid_4, Xvalid_5, Xvalid_6, Xvalid_7, Xvalid_8]\n",
    "# to_pred = [Xvalid_5, Xvalid_6, Xvalid_7, Xvalid_8]\n",
    "\n"
   ]
  },
  {
   "cell_type": "code",
   "execution_count": null,
   "metadata": {
    "scrolled": false
   },
   "outputs": [],
   "source": [
    "# pipeline\n",
    "# model_performances = []\n",
    "# for i in tqdm(range(len(to_fit))):\n",
    "#     for c in C:\n",
    "#         clf = LogisticRegression(C = c, fit_intercept=False, max_iter = 500000) \n",
    "#         clf.fit(to_fit[i], ytrain)\n",
    "# #         theta = clf.coef_\n",
    "#         predictions = clf.predict(to_pred[i])\n",
    "#         correct = predictions == yvalid\n",
    "#         acc = sum(correct) / len(correct)\n",
    "#         print(str(i) + \"      \" + str(c) + \"      \"+str(acc))\n",
    "#         model_performances.append(acc)"
   ]
  },
  {
   "cell_type": "code",
   "execution_count": null,
   "metadata": {},
   "outputs": [],
   "source": [
    "# model_names = [\"unigrams, keep punc, tfidf\",\n",
    "# \"unigrams, discard punc, tfidf\",\n",
    "# \"unigrams, keep punc, counts\",\n",
    "# \"unigrams, discard punc, counts\",\n",
    "# \"bigrams, keep punc, tfidf\",\n",
    "# \"bigrams, discard punc, tfidf\",\n",
    "# \"bigrams, keep punc, counts\",\n",
    "# \"bigrams, discard punc, counts\"]\n",
    "\n",
    "# index_names = []\n",
    "# for model in model_names:\n",
    "#     for c in C:\n",
    "#         index_names.append((model,c))"
   ]
  },
  {
   "cell_type": "code",
   "execution_count": null,
   "metadata": {},
   "outputs": [],
   "source": [
    "# index = pd.MultiIndex.from_tuples(index_names, names=['model','regularization param'])"
   ]
  },
  {
   "cell_type": "code",
   "execution_count": null,
   "metadata": {},
   "outputs": [],
   "source": [
    "# df = pd.DataFrame(data = model_performances, index = index, columns = ['mse'])\n",
    "# df"
   ]
  },
  {
   "cell_type": "code",
   "execution_count": null,
   "metadata": {},
   "outputs": [],
   "source": [
    "# df.sort_values(by = 'mse', ascending =False).iloc[0]\n",
    "# Xtrain_4 = lil_matrix(Xtrain_4)\n",
    "# Xvalid_4 = lil_matrix(Xvalid_4)"
   ]
  },
  {
   "cell_type": "code",
   "execution_count": null,
   "metadata": {},
   "outputs": [],
   "source": [
    "#acc for just reviews\n",
    "#0.6482173720808714\n",
    "# clf = LogisticRegression(C = 0.1, fit_intercept=False, max_iter = 50000) \n",
    "# clf.fit(Xtrain_4, ytrain)\n",
    "# #         theta = clf.coef_\n",
    "# predictions = clf.predict(Xvalid_4)\n",
    "# correct = predictions == yvalid\n",
    "# acc = sum(correct) / len(correct)\n",
    "# print(acc)"
   ]
  },
  {
   "cell_type": "code",
   "execution_count": null,
   "metadata": {},
   "outputs": [],
   "source": [
    "# len([d for d in Xvalid if d['overall'] == 5]) / len(Xvalid)"
   ]
  },
  {
   "cell_type": "code",
   "execution_count": null,
   "metadata": {},
   "outputs": [],
   "source": [
    "Xtrain_4_ = lil_matrix(Xtrain_4_)\n",
    "Xvalid_4_ = lil_matrix(Xvalid_4_)"
   ]
  },
  {
   "cell_type": "code",
   "execution_count": null,
   "metadata": {},
   "outputs": [],
   "source": [
    "#acc for reviews + review summaries\n",
    "#0.6509506009083966\n",
    "clf = LogisticRegression(C = 0.1, fit_intercept=False, max_iter = 50000) \n",
    "clf.fit(Xtrain_4_, ytrain)\n",
    "#         theta = clf.coef_\n",
    "predictions = clf.predict(Xvalid_4_)\n",
    "correct = predictions == yvalid\n",
    "acc = sum(correct) / len(correct)\n",
    "print(acc)"
   ]
  },
  {
   "cell_type": "code",
   "execution_count": null,
   "metadata": {},
   "outputs": [],
   "source": [
    "# clf = LogisticRegressionCV(cv=5, random_state=0,fit_intercept=False, max_iter = 10000).fit(Xtrain_4_, ytrain)\n",
    "# predictions = clf.predict(Xvalid_4_)\n",
    "# correct = predictions == yvalid\n",
    "# acc = sum(correct) / len(correct)\n",
    "# print(acc)"
   ]
  },
  {
   "cell_type": "code",
   "execution_count": null,
   "metadata": {},
   "outputs": [],
   "source": [
    "\n",
    "# import numpy \n",
    "# import math\n",
    "# from scipy.stats import uniform\n",
    "# import matplotlib.pyplot as plt \n",
    "# from sklearn.model_selection import GridSearchCV\n",
    "# from sklearn.model_selection import RandomizedSearchCV\n",
    "# from sklearn.linear_model import LogisticRegression\n",
    "\n",
    "# def gridRandomCV(X_train_vect, X_test_vect, c_max, title_cf=''):\n",
    "    \n",
    "#     # empty list that will hold cv scores\n",
    "#     cv_scores = []\n",
    "    \n",
    "#     # Create regularization penalty space\n",
    "#     penalty = ['l1', 'l2']\n",
    "\n",
    "#     # Create regularization hyperparameter distribution using uniform distribution\n",
    "#     # This distribution is constant between loc and loc + scale.\n",
    "#     C = uniform(loc=0, scale=c_max)\n",
    "    \n",
    "#     # Create hyperparameter options\n",
    "#     hyperparameters = dict(C=C, penalty=penalty)\n",
    "\n",
    "#     ###################################################################\n",
    "#     # Cross Validation using RandomizedSearchCV\n",
    "#     # Create randomized search 10-fold cross validation and 100 iterations\n",
    "#     model = RandomizedSearchCV(LogisticRegression(), hyperparameters, \n",
    "#                     random_state=1, n_iter=100, cv=10, verbose=0, n_jobs=-1)\n",
    "    \n",
    "#     # Fit randomized search\n",
    "#     best_model = model.fit(X_train_vect, ytrain)\n",
    "    \n",
    "#     best_regularizer = best_model.best_estimator_.get_params()['penalty']\n",
    "    \n",
    "#     # View best hyperparameters\n",
    "#     print(bold + '\\nBest Penalty:', best_regularizer)\n",
    "    \n",
    "#     optimal_lambda_rcv = best_model.best_estimator_.get_params()['C']\n",
    "#     print('RandomizedSearchCV: Best C:', optimal_lambda_rcv, end, '\\n')\n",
    "    \n",
    "#     means = best_model.cv_results_['mean_test_score']\n",
    "#     stds = best_model.cv_results_['std_test_score']\n",
    "#     print (\"Mean Test Score (+/-) Standard Deviation for Parameters: \")\n",
    "#     for mean, std, params in zip(\n",
    "#             means, stds, best_model.cv_results_['params']):\n",
    "#         print(\"%0.3f (+/-%0.03f) for %r\"\n",
    "#               % (mean, std * 2, params))\n",
    "    \n",
    "#     print('\\nThe optimal value of lambda using RandomizedSearchCV is %f.' \n",
    "#                                                   % (1/optimal_lambda_rcv))\n",
    "    \n",
    "#     compute_metrics(best_model, X_test_vect, \n",
    "#                         title_cf=\"Confusion Matrix: RandomizedSearchCV\")\n",
    "#     ###################################################################\n",
    "\n",
    "\n",
    "#     ###################################################################\n",
    "#     # Cross Validation using GridSearchCV\n",
    "#     inv_lambda_values = [10**-5, 10**-4, 10**-3, 10**-2, 10**-1, \n",
    "#                            10**0, 10**1, 10**2, 10**3, 10**4, 10**5]\n",
    "    \n",
    "#     tuned_parameters = [{'C': inv_lambda_values}, {'penalty': penalty}]\n",
    "    \n",
    "#     model = GridSearchCV(LogisticRegression(), \n",
    "#                          tuned_parameters, scoring = 'f1', cv=10)\n",
    "#     model.fit(X_train_vect, ytrain)\n",
    "\n",
    "#     means = model.cv_results_['mean_test_score']\n",
    "# #     stds = model.cv_results_['std_test_score']\n",
    "# #     for mean, std, params in zip(means, stds, model.cv_results_['params']):\n",
    "# #         print(\"%0.3f (+/-%0.03f) for %r\"\n",
    "# #               % (mean, std * 2, params))\n",
    "# #     print(type(model.cv_results_['params']))\n",
    "# #     print(model.cv_results_['params'])\n",
    "    \n",
    "#     # determining best lambda\n",
    "#     optimal_lambda_gcv = model.cv_results_['params'][means.argmax()].get('C')\n",
    "#     print('\\nGridSearchCV: Best C:', optimal_lambda_gcv)\n",
    "#     print(\n",
    "#         '\\nThe optimal value of lambda using GridSearchCV is %f.' \n",
    "#                                                     % (1/optimal_lambda_gcv))\n",
    "    \n",
    "#     compute_metrics(model, X_test_vect, title_cf=\"Confusion Matrix: GridSearchCV\")\n",
    "#     ###################################################################\n",
    "    \n",
    "#     return optimal_lambda_rcv, best_regularizer\n",
    "\n"
   ]
  },
  {
   "cell_type": "code",
   "execution_count": null,
   "metadata": {},
   "outputs": [],
   "source": [
    "# optimal_lambda, best_regularizer = gridRandomCV(Xtrain_4_, Xvalid_4_, 4)"
   ]
  },
  {
   "cell_type": "code",
   "execution_count": null,
   "metadata": {},
   "outputs": [],
   "source": []
  }
 ],
 "metadata": {
  "kernelspec": {
   "display_name": "Python 3",
   "language": "python",
   "name": "python3"
  },
  "language_info": {
   "codemirror_mode": {
    "name": "ipython",
    "version": 3
   },
   "file_extension": ".py",
   "mimetype": "text/x-python",
   "name": "python",
   "nbconvert_exporter": "python",
   "pygments_lexer": "ipython3",
   "version": "3.8.3"
  }
 },
 "nbformat": 4,
 "nbformat_minor": 4
}
